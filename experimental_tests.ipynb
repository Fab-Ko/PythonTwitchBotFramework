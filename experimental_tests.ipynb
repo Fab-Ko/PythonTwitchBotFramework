{
 "cells": [
  {
   "cell_type": "code",
   "execution_count": 85,
   "metadata": {
    "pycharm": {
     "name": "#%%\n"
    }
   },
   "outputs": [],
   "source": [
    "import typing\n",
    "from dataclasses import dataclass\n",
    "from typing import get_type_hints\n",
    "from inspect import getfullargspec\n",
    "\n",
    "from icecream import ic\n",
    "\n",
    "\n",
    "@dataclass(frozen=True)\n",
    "class Param:\n",
    "    name: str\n",
    "    annotation: typing.Type[type]\n",
    "    type: str\n",
    "\n",
    "\n",
    "def get_arg_types(function) -> typing.Optional[list[Param]]:\n",
    "    try:\n",
    "        fullspec = getfullargspec(function)\n",
    "        typehints = get_type_hints(function)\n",
    "    except TypeError:\n",
    "        return None\n",
    "\n",
    "    getparamtype = lambda param: typehints.get(param, None) or fullspec.annotations.get(param, None)\n",
    "\n",
    "    types = [Param(param, getparamtype(param), 'positional') for param in fullspec.args]\n",
    "    if fullspec.varargs is not None:\n",
    "        types.append(Param('*' + fullspec.varargs, getparamtype(fullspec.varargs), 'varargs'))\n",
    "\n",
    "    return types\n",
    "\n",
    "# \"\"\"FullArgSpec(\n",
    "#     args=['a', 'b'],\n",
    "#     varargs='args',\n",
    "#     varkw='kwargs',\n",
    "#     defaults=None,\n",
    "#     kwonlyargs=[],\n",
    "#     kwonlydefaults=None,\n",
    "#     annotations={'a': 'int', 'b': 'int', 'args': 'None', 'kwargs': 'str'}\n",
    "# )\"\"\""
   ]
  },
  {
   "cell_type": "code",
   "execution_count": 176,
   "outputs": [
    {
     "data": {
      "text/plain": "[<ERROR: invalid literal for int() with base 10: 'a'>,\n <ERROR: could not convert string to float: 'n'>,\n 'lol',\n 'testing']"
     },
     "execution_count": 176,
     "metadata": {},
     "output_type": "execute_result"
    }
   ],
   "source": [
    "class CastError:\n",
    "    def __init__(self, e):\n",
    "        self.e = e\n",
    "\n",
    "    def __repr__(self):\n",
    "        return f'<ERROR: {self.e}>'\n",
    "\n",
    "\n",
    "def process_arg_types(function, args: str):\n",
    "    types = get_arg_types(function)\n",
    "    out_args = []\n",
    "    i = 0\n",
    "\n",
    "    def trycastarg(arg, param):\n",
    "        try:\n",
    "            return param.annotation(arg)\n",
    "        except Exception as e:\n",
    "            return CastError(e)\n",
    "\n",
    "    for arg, param in zip(args, types):\n",
    "        if param.type == 'positional':\n",
    "            if param.annotation is not None:\n",
    "                out_args.append(trycastarg(arg, param))\n",
    "            else:\n",
    "                out_args.append(arg)\n",
    "            i += 1\n",
    "\n",
    "    vararg_type = next((p for p in types if p.type == 'varargs'), None)\n",
    "    if vararg_type is not None:\n",
    "        if vararg_type.annotation is not None:\n",
    "            out_args.extend(map(lambda x: trycastarg(x, vararg_type.annotation), args[i:]))\n",
    "        else:\n",
    "            out_args.extend(args[i:])\n",
    "\n",
    "    return out_args\n",
    "\n",
    "\n",
    "def basic_command(a: int, b: float, *args):\n",
    "    ic(a, b, a)\n",
    "\n",
    "\n",
    "process_arg_types(basic_command, ('a', 'n', 'lol', 'testing'))"
   ],
   "metadata": {
    "collapsed": false,
    "pycharm": {
     "name": "#%%\n"
    }
   }
  }
 ],
 "metadata": {
  "kernelspec": {
   "display_name": "Python 3 (ipykernel)",
   "language": "python",
   "name": "python3"
  },
  "language_info": {
   "codemirror_mode": {
    "name": "ipython",
    "version": 3
   },
   "file_extension": ".py",
   "mimetype": "text/x-python",
   "name": "python",
   "nbconvert_exporter": "python",
   "pygments_lexer": "ipython3",
   "version": "3.8.13"
  }
 },
 "nbformat": 4,
 "nbformat_minor": 1
}