{
 "cells": [
  {
   "cell_type": "code",
   "execution_count": 59,
   "metadata": {
    "pycharm": {
     "name": "#%%\n"
    }
   },
   "outputs": [],
   "source": [
    "from dataclasses import dataclass\n",
    "from inspect import getfullargspec, ismethod\n",
    "from typing import Optional, Type, ClassVar, Callable, Sequence, get_type_hints\n",
    "\n",
    "__all__ = [\n",
    "    'get_callable_arg_types',\n",
    "    'AutoCastFail',\n",
    "    'convert_args_to_function_parameter_types',\n",
    "]\n",
    "\n",
    "\n",
    "@dataclass(frozen=True)\n",
    "class Param:\n",
    "    name: str\n",
    "    annotation: Type\n",
    "    type: str\n",
    "\n",
    "    POSITIONAL: ClassVar[str] = 'positional'\n",
    "    VARARGS: ClassVar[str] = 'varargs'\n",
    "\n",
    "\n",
    "def get_callable_arg_types(function, skip_self=True) -> Optional[list[Param]]:\n",
    "    try:\n",
    "        fullspec = getfullargspec(function)\n",
    "        typehints = get_type_hints(function)\n",
    "    except TypeError:\n",
    "        return None\n",
    "\n",
    "    getparamtype = lambda param: typehints.get(param, None) or fullspec.annotations.get(param, None)\n",
    "\n",
    "    types = [Param(param, getparamtype(param), Param.POSITIONAL) for param in fullspec.args]\n",
    "    if skip_self and ismethod(function):\n",
    "        types = types[1:]\n",
    "\n",
    "    if fullspec.varargs is not None:\n",
    "        types.append(Param('*' + fullspec.varargs, getparamtype(fullspec.varargs), Param.VARARGS))\n",
    "\n",
    "    return types\n",
    "\n",
    "\n",
    "class AutoCastFail:\n",
    "    def __init__(self, e, value: str, param: Param):\n",
    "        self.param = param\n",
    "        self.value = value\n",
    "        self.e: Type[Exception] = e\n",
    "\n",
    "    def __repr__(self):\n",
    "        return f'<{self.__class__.__name__}: exception={self.e!r} value={self.value!r} param={self.param!r}>'\n",
    "\n",
    "\n",
    "def _cast_arg_to_type(arg, param: Param):\n",
    "    converter = getattr(param.annotation, '_handle_auto_cast', param.annotation)\n",
    "    try:\n",
    "        return converter(arg)\n",
    "    except Exception as e:\n",
    "        return AutoCastFail(e, arg, param)\n",
    "\n",
    "\n",
    "def convert_args_to_function_parameter_types(function: Callable, args: Sequence[str]):\n",
    "    types = get_callable_arg_types(function, skip_self=True)\n",
    "    for type in types:\n",
    "        print(f'{type.name} -> {type.annotation} -> {type.annotation.__bases__}')\n",
    "    out_args = []\n",
    "    i = 0\n",
    "\n",
    "    for arg, param in zip(args, types):\n",
    "        if param.type == Param.POSITIONAL:\n",
    "            if param.annotation is not None:\n",
    "                out_args.append(_cast_arg_to_type(arg, param))\n",
    "            else:\n",
    "                out_args.append(arg)\n",
    "            i += 1\n",
    "\n",
    "    vararg_type = next((p for p in types if p.type == Param.VARARGS), None)\n",
    "    if vararg_type is not None:\n",
    "        if vararg_type.annotation is not None:\n",
    "            out_args.extend(map(lambda x: _cast_arg_to_type(x, vararg_type), args[i:]))\n",
    "        else:\n",
    "            out_args.extend(args[i:])\n",
    "\n",
    "    return out_args\n",
    "\n",
    "# \"\"\"FullArgSpec(\n",
    "#     args=['a', 'b'],\n",
    "#     varargs='args',\n",
    "#     varkw='kwargs',\n",
    "#     defaults=None,\n",
    "#     kwonlyargs=[],\n",
    "#     kwonlydefaults=None,\n",
    "#     annotations={'a': 'int', 'b': 'int', 'args': 'None', 'kwargs': 'str'}\n",
    "# )\"\"\"\n"
   ]
  },
  {
   "cell_type": "code",
   "execution_count": 59,
   "outputs": [],
   "source": [],
   "metadata": {
    "collapsed": false,
    "pycharm": {
     "name": "#%%\n"
    }
   }
  },
  {
   "cell_type": "code",
   "execution_count": 60,
   "outputs": [
    {
     "name": "stdout",
     "output_type": "stream",
     "text": [
      "a -> <class 'int'> -> (<class 'object'>,)\n",
      "b -> <class 'float'> -> (<class 'object'>,)\n",
      "c -> <class 'float'> -> (<class 'object'>,)\n"
     ]
    },
    {
     "ename": "AttributeError",
     "evalue": "__bases__",
     "output_type": "error",
     "traceback": [
      "\u001B[1;31m---------------------------------------------------------------------------\u001B[0m",
      "\u001B[1;31mAttributeError\u001B[0m                            Traceback (most recent call last)",
      "Input \u001B[1;32mIn [60]\u001B[0m, in \u001B[0;36m<cell line: 9>\u001B[1;34m()\u001B[0m\n\u001B[0;32m      5\u001B[0m \u001B[38;5;28;01mdef\u001B[39;00m \u001B[38;5;21mbasic_command\u001B[39m(a: \u001B[38;5;28mint\u001B[39m, b: \u001B[38;5;28mfloat\u001B[39m, c: \u001B[38;5;28mfloat\u001B[39m \u001B[38;5;241m=\u001B[39m \u001B[38;5;241m1\u001B[39m, \u001B[38;5;241m*\u001B[39margs: Any):\n\u001B[0;32m      6\u001B[0m     \u001B[38;5;28mprint\u001B[39m(\u001B[38;5;124mf\u001B[39m\u001B[38;5;124m'\u001B[39m\u001B[38;5;124mBASIC_COMMAND CALL:\u001B[39m\u001B[38;5;130;01m\\n\u001B[39;00m\u001B[38;5;130;01m\\t\u001B[39;00m\u001B[38;5;132;01m{\u001B[39;00ma\u001B[38;5;132;01m=}\u001B[39;00m\u001B[38;5;130;01m\\n\u001B[39;00m\u001B[38;5;130;01m\\t\u001B[39;00m\u001B[38;5;132;01m{\u001B[39;00mb\u001B[38;5;132;01m=}\u001B[39;00m\u001B[38;5;130;01m\\n\u001B[39;00m\u001B[38;5;130;01m\\t\u001B[39;00m\u001B[38;5;132;01m{\u001B[39;00mc\u001B[38;5;132;01m=}\u001B[39;00m\u001B[38;5;130;01m\\n\u001B[39;00m\u001B[38;5;130;01m\\t\u001B[39;00m\u001B[38;5;132;01m{\u001B[39;00margs\u001B[38;5;132;01m=}\u001B[39;00m\u001B[38;5;124m'\u001B[39m)\n\u001B[1;32m----> 9\u001B[0m basic_command(\u001B[38;5;241m*\u001B[39m\u001B[43mconvert_args_to_function_parameter_types\u001B[49m\u001B[43m(\u001B[49m\u001B[43mbasic_command\u001B[49m\u001B[43m,\u001B[49m\u001B[43m \u001B[49m\u001B[43m(\u001B[49m\u001B[38;5;124;43m'\u001B[39;49m\u001B[38;5;124;43m1\u001B[39;49m\u001B[38;5;124;43m'\u001B[39;49m\u001B[43m,\u001B[49m\u001B[43m \u001B[49m\u001B[38;5;124;43m'\u001B[39;49m\u001B[38;5;124;43mb\u001B[39;49m\u001B[38;5;124;43m'\u001B[39;49m\u001B[43m,\u001B[49m\u001B[43m \u001B[49m\u001B[38;5;124;43m'\u001B[39;49m\u001B[38;5;124;43m-5\u001B[39;49m\u001B[38;5;124;43m'\u001B[39;49m\u001B[43m,\u001B[49m\u001B[43m \u001B[49m\u001B[38;5;124;43m'\u001B[39;49m\u001B[38;5;124;43mnan\u001B[39;49m\u001B[38;5;124;43m'\u001B[39;49m\u001B[43m,\u001B[49m\u001B[43m \u001B[49m\u001B[38;5;124;43m'\u001B[39;49m\u001B[38;5;124;43m100\u001B[39;49m\u001B[38;5;124;43m'\u001B[39;49m\u001B[43m,\u001B[49m\u001B[43m \u001B[49m\u001B[38;5;124;43m'\u001B[39;49m\u001B[38;5;124;43m-55\u001B[39;49m\u001B[38;5;124;43m'\u001B[39;49m\u001B[43m)\u001B[49m\u001B[43m)\u001B[49m)\n",
      "Input \u001B[1;32mIn [59]\u001B[0m, in \u001B[0;36mconvert_args_to_function_parameter_types\u001B[1;34m(function, args)\u001B[0m\n\u001B[0;32m     60\u001B[0m types \u001B[38;5;241m=\u001B[39m get_callable_arg_types(function, skip_self\u001B[38;5;241m=\u001B[39m\u001B[38;5;28;01mTrue\u001B[39;00m)\n\u001B[0;32m     61\u001B[0m \u001B[38;5;28;01mfor\u001B[39;00m \u001B[38;5;28mtype\u001B[39m \u001B[38;5;129;01min\u001B[39;00m types:\n\u001B[1;32m---> 62\u001B[0m     \u001B[38;5;28mprint\u001B[39m(\u001B[38;5;124mf\u001B[39m\u001B[38;5;124m'\u001B[39m\u001B[38;5;132;01m{\u001B[39;00m\u001B[38;5;28mtype\u001B[39m\u001B[38;5;241m.\u001B[39mname\u001B[38;5;132;01m}\u001B[39;00m\u001B[38;5;124m -> \u001B[39m\u001B[38;5;132;01m{\u001B[39;00m\u001B[38;5;28mtype\u001B[39m\u001B[38;5;241m.\u001B[39mannotation\u001B[38;5;132;01m}\u001B[39;00m\u001B[38;5;124m -> \u001B[39m\u001B[38;5;132;01m{\u001B[39;00m\u001B[38;5;28mtype\u001B[39m\u001B[38;5;241m.\u001B[39mannotation\u001B[38;5;241m.\u001B[39m\u001B[38;5;18m__bases__\u001B[39m\u001B[38;5;132;01m}\u001B[39;00m\u001B[38;5;124m'\u001B[39m)\n\u001B[0;32m     63\u001B[0m out_args \u001B[38;5;241m=\u001B[39m []\n\u001B[0;32m     64\u001B[0m i \u001B[38;5;241m=\u001B[39m \u001B[38;5;241m0\u001B[39m\n",
      "File \u001B[1;32mD:\\programs\\miniconda\\envs\\py310ptfb\\lib\\typing.py:375\u001B[0m, in \u001B[0;36m_SpecialForm.__getattr__\u001B[1;34m(self, item)\u001B[0m\n\u001B[0;32m    372\u001B[0m \u001B[38;5;28;01mif\u001B[39;00m item \u001B[38;5;129;01min\u001B[39;00m {\u001B[38;5;124m'\u001B[39m\u001B[38;5;124m__name__\u001B[39m\u001B[38;5;124m'\u001B[39m, \u001B[38;5;124m'\u001B[39m\u001B[38;5;124m__qualname__\u001B[39m\u001B[38;5;124m'\u001B[39m}:\n\u001B[0;32m    373\u001B[0m     \u001B[38;5;28;01mreturn\u001B[39;00m \u001B[38;5;28mself\u001B[39m\u001B[38;5;241m.\u001B[39m_name\n\u001B[1;32m--> 375\u001B[0m \u001B[38;5;28;01mraise\u001B[39;00m \u001B[38;5;167;01mAttributeError\u001B[39;00m(item)\n",
      "\u001B[1;31mAttributeError\u001B[0m: __bases__"
     ]
    }
   ],
   "source": [
    "from typing import Any\n",
    "from icecream import ic\n",
    "\n",
    "\n",
    "def basic_command(a: int, b: float, c: float = 1, *args: Any):\n",
    "    print(f'BASIC_COMMAND CALL:\\n\\t{a=}\\n\\t{b=}\\n\\t{c=}\\n\\t{args=}')\n",
    "\n",
    "\n",
    "basic_command(*convert_args_to_function_parameter_types(basic_command, ('1', 'b', '-5', 'nan', '100', '-55')))\n",
    "# getfullargspec(C().basic_command)"
   ],
   "metadata": {
    "collapsed": false,
    "pycharm": {
     "name": "#%%\n"
    }
   }
  }
 ],
 "metadata": {
  "kernelspec": {
   "display_name": "Python 3 (ipykernel)",
   "language": "python",
   "name": "python3"
  },
  "language_info": {
   "codemirror_mode": {
    "name": "ipython",
    "version": 3
   },
   "file_extension": ".py",
   "mimetype": "text/x-python",
   "name": "python",
   "nbconvert_exporter": "python",
   "pygments_lexer": "ipython3",
   "version": "3.8.13"
  }
 },
 "nbformat": 4,
 "nbformat_minor": 1
}